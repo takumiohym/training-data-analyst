{
 "cells": [
  {
   "cell_type": "markdown",
   "metadata": {},
   "source": [
    "# matplotlib tutorial"
   ]
  },
  {
   "cell_type": "markdown",
   "metadata": {},
   "source": [
    "## 目次\n",
    "\n",
    "- [matplotlibとは？](#what)\n",
    "- [参考資料](#reference)\n",
    "- [簡単な使い方](#easy)\n",
    "    - [import](#import)\n",
    "    - [線グラフ](#line)\n",
    "    - [散布図](#scatter)\n",
    "    - [スタイル変更](#style)\n",
    "    - [ヒストグラム](#hist)\n",
    "    - [画像描画](#image)\n",
    "    - [描画範囲指定](#limit)\n",
    "    - [複数グラフ描画](#multi)\n",
    "    - [サブプロット描画](#subplot)\n",
    "- [複雑な描画](#complicated)\n",
    "    - [軸を揃える](#axis)\n",
    "    - [複数グラフの連結](#join)\n",
    "- [おまけ：ギャラリー](#gallery)\n",
    "    - [3D](#function)\n",
    "    - [stackplot](#stackplot)\n",
    "    - [カラープロッティング](#color)\n",
    "    - [画像プロッティング](#image2)\n"
   ]
  },
  {
   "cell_type": "markdown",
   "metadata": {},
   "source": [
    " <a name = \"what\"></a>\n",
    "\n",
    "## matplotlibとは\n",
    "\n",
    "Pythonでの描画ライブラリ。\n",
    "様々なプロッティングが可能"
   ]
  },
  {
   "cell_type": "markdown",
   "metadata": {},
   "source": [
    " <a name = \"reference\"></a>\n",
    "\n",
    "## 参考資料"
   ]
  },
  {
   "cell_type": "markdown",
   "metadata": {},
   "source": [
    "- [matplotlib](http://matplotlib.org/)\n",
    "- [matplotlib.pyplot](http://matplotlib.org/api/pyplot_api.html)\n",
    "- [Gallery](http://matplotlib.org/gallery.html)"
   ]
  },
  {
   "cell_type": "markdown",
   "metadata": {},
   "source": [
    " <a name = \"easy\"></a>\n",
    "\n",
    "## 簡単な使い方\n",
    "pyplotモジュールの関数を使う"
   ]
  },
  {
   "cell_type": "markdown",
   "metadata": {},
   "source": [
    " <a name = \"import\"></a>\n",
    "\n",
    "### まずimport\n"
   ]
  },
  {
   "cell_type": "code",
   "execution_count": null,
   "metadata": {
    "collapsed": false
   },
   "outputs": [],
   "source": [
    "import numpy as np\n",
    "import matplotlib.pyplot as plt # pltとするのが通例\n",
    "%matplotlib inline  \n",
    "# notebook内に出力するために必要"
   ]
  },
  {
   "cell_type": "markdown",
   "metadata": {},
   "source": [
    " <a name = \"line\"></a>\n",
    "\n",
    "###  線グラフ描画"
   ]
  },
  {
   "cell_type": "code",
   "execution_count": null,
   "metadata": {
    "collapsed": false
   },
   "outputs": [],
   "source": [
    "# データ作成\n",
    "x = np.arange(-3, 3, 0.1)\n",
    "y = np.sin(x)\n",
    "\n",
    "# プロット(引数はx軸、y軸)\n",
    "plt.plot(x, y)"
   ]
  },
  {
   "cell_type": "markdown",
   "metadata": {},
   "source": [
    " <a name = \"satter\"></a>\n",
    "\n",
    "### 散布図"
   ]
  },
  {
   "cell_type": "code",
   "execution_count": null,
   "metadata": {
    "collapsed": false
   },
   "outputs": [],
   "source": [
    "# データ作成\n",
    "x = np.random.randn(30)\n",
    "y = np.sin(x) + np.random.randn(30)\n",
    "\n",
    "# \"o\"で小さい円描写\n",
    "plt.plot(x, y, \"o\")"
   ]
  },
  {
   "cell_type": "markdown",
   "metadata": {},
   "source": [
    " <a name = \"style\"></a>\n",
    "\n",
    "### スタイル変更"
   ]
  },
  {
   "cell_type": "code",
   "execution_count": null,
   "metadata": {
    "collapsed": false
   },
   "outputs": [],
   "source": [
    "x = np.random.randn(30)\n",
    "y = np.sin(x) + np.random.randn(30)\n",
    "\n",
    "# rで赤色指定 vで逆三角\n",
    "plt.plot(x, y, \"rv\")"
   ]
  },
  {
   "cell_type": "markdown",
   "metadata": {},
   "source": [
    "そのほかのプロッティングパラメータは[pyplot.plot](http://matplotlib.org/api/pyplot_api.html#matplotlib.pyplot.plot)を参照"
   ]
  },
  {
   "cell_type": "markdown",
   "metadata": {},
   "source": [
    " <a name = \"hist\"></a>\n",
    "\n",
    "### ヒストグラム描画"
   ]
  },
  {
   "cell_type": "code",
   "execution_count": null,
   "metadata": {
    "collapsed": false
   },
   "outputs": [],
   "source": [
    "# 正規表現を.histでヒストグラム描画\n",
    "plt.hist(np.random.randn(1000))"
   ]
  },
  {
   "cell_type": "markdown",
   "metadata": {},
   "source": [
    " <a name = \"image\"></a>\n",
    "\n",
    "### 画像描画"
   ]
  },
  {
   "cell_type": "code",
   "execution_count": null,
   "metadata": {
    "collapsed": false
   },
   "outputs": [],
   "source": [
    "# 100 ×100 の画像を表示（画像解析や機械学習でよく使う）\n",
    "plt.imshow(np.random.randn(100, 100))\n",
    "\n",
    "#titleを追加\n",
    "plt.title(\"100x100 matrix\")"
   ]
  },
  {
   "cell_type": "markdown",
   "metadata": {},
   "source": [
    " <a name = \"limit\"></a>\n",
    "\n",
    "### 描画範囲指定"
   ]
  },
  {
   "cell_type": "code",
   "execution_count": null,
   "metadata": {
    "collapsed": false
   },
   "outputs": [],
   "source": [
    "x = np.arange(0, 10, 0.1)\n",
    "y = np.exp(x)\n",
    "plt.plot(x, y)\n",
    "\n",
    "# テキストはLaTeXで数式入れられる\n",
    "plt.title(\"exponential function: $ y = e^x $\")\n",
    "\n",
    "# ylimでy軸を0-5000の範囲に限定\n",
    "plt.ylim(0, 5000)  "
   ]
  },
  {
   "cell_type": "markdown",
   "metadata": {},
   "source": [
    "LaTeXは[こちら](http://matplotlib.org/users/usetex.html)を参照"
   ]
  },
  {
   "cell_type": "markdown",
   "metadata": {},
   "source": [
    " <a name = \"multi\"></a>\n",
    "\n",
    "### 複数グラフ描画"
   ]
  },
  {
   "cell_type": "code",
   "execution_count": null,
   "metadata": {
    "collapsed": false
   },
   "outputs": [],
   "source": [
    "# データ作成\n",
    "xmin, xmax = -np.pi, np.pi\n",
    "x = np.arange(xmin, xmax, 0.1)\n",
    "y_sin = np.sin(x)\n",
    "y_cos = np.cos(x)\n",
    "\n",
    "# sin,cosグラフ描画。labelで凡例（legendの指定）\n",
    "plt.plot(x, y_sin, label=\"sin\")\n",
    "plt.plot(x, y_cos,label=\"cos\")\n",
    "\n",
    "# plt.legendで凡例描画。locで場所指定\n",
    "plt.legend(loc=\"upper left\")\n",
    "\n",
    "\n",
    "# y=-1, 1に破線を描画\n",
    "plt.hlines([-1, 1], xmin, xmax, linestyles=\"dashed\")\n",
    "\n",
    "# タイトル\n",
    "plt.title(r\"$\\sin(x)$ and $\\cos(x)$\")\n",
    "\n",
    "\n",
    "# xlim、ylimで描画範囲指定\n",
    "plt.xlim(xmin, xmax)\n",
    "plt.ylim(-1.3, 1.3)"
   ]
  },
  {
   "cell_type": "markdown",
   "metadata": {},
   "source": [
    " <a name = \"subplot\"></a>\n",
    "\n",
    "### サブプロット描画\n",
    "plt.subplot(行数, 列数, 何番目のプロットか)で指定"
   ]
  },
  {
   "cell_type": "code",
   "execution_count": null,
   "metadata": {
    "collapsed": false
   },
   "outputs": [],
   "source": [
    "# sinのプロット\n",
    "plt.subplot(2, 1, 1)\n",
    "plt.plot(x, y_sin)\n",
    "plt.title(r\"$\\sin x$\")\n",
    "plt.xlim(xmin, xmax)\n",
    "plt.ylim(-1.3, 1.3)\n",
    "\n",
    "# cosのプロット\n",
    "plt.subplot(2, 1, 2)\n",
    "plt.plot(x, y_cos)\n",
    "plt.title(r\"$\\cos x$\")\n",
    "plt.xlim(xmin, xmax)\n",
    "plt.ylim(-1.3, 1.3)"
   ]
  },
  {
   "cell_type": "code",
   "execution_count": null,
   "metadata": {
    "collapsed": false
   },
   "outputs": [],
   "source": [
    "def plot_function_name(name, x=0, y=0):\n",
    "    # グラフ中央に文字出す\n",
    "    plt.text(x, y, name, alpha=0.3, size=25, ha=\"center\", va=\"center\")\n",
    "\n",
    "    \n",
    "x = np.arange(-3, 3.01, 0.01) # 3.01\n",
    "\n",
    "# plt.subplotの引数は区切らなくてもいい\n",
    "plt.subplot(231)\n",
    "plot_function_name(\"1: sin\")\n",
    "plt.plot(x, np.sin(x))\n",
    "\n",
    "plt.subplot(232)\n",
    "plot_function_name(\"2: cos\")\n",
    "plt.plot(x, np.cos(x))\n",
    "\n",
    "plt.subplot(233)\n",
    "plot_function_name(\"3: tan\")\n",
    "plt.plot(x, np.tan(x))\n",
    "plt.ylim(-1, 1)  # y軸が無限まで行ってしまうので制限\n",
    "\n",
    "plt.subplot(234)\n",
    "plot_function_name(\"4: sinh\")\n",
    "plt.plot(x, np.sinh(x))\n",
    "\n",
    "plt.subplot(235)\n",
    "plot_function_name(\"5: cosh\", x=0, y=6)\n",
    "plt.plot(x, np.cosh(x))\n",
    "\n",
    "plt.subplot(236)\n",
    "plot_function_name(\"6: tanh\")\n",
    "plt.plot(x, np.tanh(x))"
   ]
  },
  {
   "cell_type": "markdown",
   "metadata": {},
   "source": [
    "<a name = \"complicated\"></a>\n",
    "\n",
    "---\n",
    "## 複雑な使い方\n",
    "\n",
    "pyplotの関数は、内部的にはmatplotlibの他クラスを呼び出している。<br>\n",
    "簡単に使えるが、細かい設定をする場合は他クラスを直接呼び出す必要がある。\n",
    "\n",
    " <a name = \"axis\"></a>\n",
    "\n",
    "### 軸を揃える"
   ]
  },
  {
   "cell_type": "code",
   "execution_count": null,
   "metadata": {
    "collapsed": false
   },
   "outputs": [],
   "source": [
    "n = 300\n",
    "x = np.random.randn(n)\n",
    "y1 = np.exp(x) + np.random.randn(n)\n",
    "y2 = np.exp(x) * 3 + np.random.randn(n)\n",
    "\n",
    "# figureオブジェクトを明示的に作る\n",
    "# figureオブジェクト： 作図全体\n",
    "fig = plt.figure()\n",
    "\n",
    "# figureオブジェクトにサブプロットを作る\n",
    "# サブプロット: グラフ\n",
    "ax1 = fig.add_subplot(121)\n",
    "ax2 = fig.add_subplot(122)\n",
    "\n",
    "ax1.plot(x, y1, \".\")\n",
    "ax2.plot(x, y2, \".\")"
   ]
  },
  {
   "cell_type": "markdown",
   "metadata": {},
   "source": [
    "↑のy軸を合わせる"
   ]
  },
  {
   "cell_type": "code",
   "execution_count": null,
   "metadata": {
    "collapsed": false
   },
   "outputs": [],
   "source": [
    "fig = plt.figure()\n",
    "\n",
    "ax1 = fig.add_subplot(121)\n",
    "# 明示的にshareyでy軸をax1と揃える\n",
    "ax2 = fig.add_subplot(122, sharey=ax1)\n",
    "\n",
    "ax1.plot(x, y1, \".\")\n",
    "ax2.plot(x, y2, \".\")"
   ]
  },
  {
   "cell_type": "markdown",
   "metadata": {},
   "source": [
    " <a name = \"join\"></a>\n",
    "\n",
    "### 複数グラフの連結"
   ]
  },
  {
   "cell_type": "code",
   "execution_count": null,
   "metadata": {
    "collapsed": false
   },
   "outputs": [],
   "source": [
    "n = 300\n",
    "x = np.random.randn(n)\n",
    "y = np.sin(x) + np.random.randn(n) * 0.3\n",
    "\n",
    "fig = plt.figure()\n",
    "\n",
    "# サブプロットを8:2で分割\n",
    "# 下から0.2〜1までの0.8の範囲をax1\n",
    "ax1 = fig.add_axes((0, 0.2, 1, 0.8))\n",
    "\n",
    "# 下から0〜0.2までの0.2の範囲をax2。x軸をax1と揃える\n",
    "ax2 = fig.add_axes((0, 0, 1, 0.2), sharex=ax1)\n",
    "\n",
    "# 散布図のx軸のラベルとヒストグラムのy軸のラベルを非表示\n",
    "ax1.tick_params(labelbottom=\"off\")\n",
    "ax2.tick_params(labelleft=\"off\")\n",
    "\n",
    "ax1.plot(x, y, \"x\")\n",
    "ax2.hist(x, bins=30)  # binsで分割するサイズを指定"
   ]
  },
  {
   "cell_type": "markdown",
   "metadata": {},
   "source": [
    " <a name = \"gallery\"></a>\n",
    "\n",
    "---\n",
    "\n",
    "\n",
    "## おまけ：ギャラリー\n",
    "\n",
    "### 散布＆ヒストグラム"
   ]
  },
  {
   "cell_type": "code",
   "execution_count": null,
   "metadata": {
    "collapsed": false
   },
   "outputs": [],
   "source": [
    "from matplotlib.ticker import NullFormatter\n",
    "\n",
    "# 正規分布のデータを生成\n",
    "x = np.random.randn(1000)\n",
    "y = np.random.randn(1000)\n",
    "\n",
    "nullfmt = NullFormatter()         # ラベル無し\n",
    "\n",
    "# axesの定義\n",
    "left, width = 0.1, 0.65\n",
    "bottom, height = 0.1, 0.65\n",
    "bottom_h = left_h = left + width + 0.02\n",
    "\n",
    "rect_scatter = [left, bottom, width, height]\n",
    "rect_histx = [left, bottom_h, width, 0.2]\n",
    "rect_histy = [left_h, bottom, 0.2, height]\n",
    "\n",
    "# figureとaxes\n",
    "plt.figure(1, figsize=(8, 8))\n",
    "\n",
    "axScatter = plt.axes(rect_scatter)\n",
    "axHistx = plt.axes(rect_histx)\n",
    "axHisty = plt.axes(rect_histy)\n",
    "\n",
    "# ヒストグラムのラベルを無効に\n",
    "axHistx.xaxis.set_major_formatter(nullfmt)\n",
    "axHisty.yaxis.set_major_formatter(nullfmt)\n",
    "\n",
    "# 散布図\n",
    "axScatter.scatter(x, y)\n",
    "\n",
    "# リミットの設定\n",
    "binwidth = 0.25\n",
    "xymax = np.max([np.max(np.fabs(x)), np.max(np.fabs(y))]) # xymax: xとyの最大値の内の大きい方\n",
    "lim = (int(xymax/binwidth) + 1) * binwidth  # マージンを空けて整数に\n",
    "\n",
    "axScatter.set_xlim((-lim, lim))\n",
    "axScatter.set_ylim((-lim, lim))\n",
    "\n",
    "bins = np.arange(-lim, lim + binwidth, binwidth)\n",
    "axHistx.hist(x, bins=bins)\n",
    "axHisty.hist(y, bins=bins, orientation='horizontal')\n",
    "\n",
    "axHistx.set_xlim(axScatter.get_xlim())\n",
    "axHisty.set_ylim(axScatter.get_ylim())\n",
    "\n",
    "plt.show()"
   ]
  },
  {
   "cell_type": "markdown",
   "metadata": {},
   "source": [
    "### 3D"
   ]
  },
  {
   "cell_type": "code",
   "execution_count": null,
   "metadata": {
    "collapsed": false
   },
   "outputs": [],
   "source": [
    "import matplotlib as mpl\n",
    "from mpl_toolkits.mplot3d import Axes3D\n",
    "\n",
    "mpl.rcParams['legend.fontsize'] = 10\n",
    "\n",
    "fig = plt.figure()\n",
    "ax = fig.gca(projection='3d')\n",
    "theta = np.linspace(-4 * np.pi, 4 * np.pi, 100)\n",
    "z = np.linspace(-2, 2, 100)\n",
    "r = z**2 + 1\n",
    "x = r * np.sin(theta)\n",
    "y = r * np.cos(theta)\n",
    "ax.plot(x, y, z, label='parametric curve')\n",
    "ax.legend()\n",
    "\n",
    "plt.show()"
   ]
  },
  {
   "cell_type": "code",
   "execution_count": null,
   "metadata": {
    "collapsed": false
   },
   "outputs": [],
   "source": [
    "def lorenz(x, y, z, s=10, r=28, b=2.667):\n",
    "    x_dot = s*(y - x)\n",
    "    y_dot = r*x - y - x*z\n",
    "    z_dot = x*y - b*z\n",
    "    return x_dot, y_dot, z_dot\n",
    "\n",
    "\n",
    "dt = 0.01\n",
    "stepCnt = 10000\n",
    "\n",
    "# Need one more for the initial values\n",
    "xs = np.empty((stepCnt + 1,))\n",
    "ys = np.empty((stepCnt + 1,))\n",
    "zs = np.empty((stepCnt + 1,))\n",
    "\n",
    "# Setting initial values\n",
    "xs[0], ys[0], zs[0] = (0., 1., 1.05)\n",
    "\n",
    "# Stepping through \"time\".\n",
    "for i in range(stepCnt):\n",
    "    # Derivatives of the X, Y, Z state\n",
    "    x_dot, y_dot, z_dot = lorenz(xs[i], ys[i], zs[i])\n",
    "    xs[i + 1] = xs[i] + (x_dot * dt)\n",
    "    ys[i + 1] = ys[i] + (y_dot * dt)\n",
    "    zs[i + 1] = zs[i] + (z_dot * dt)\n",
    "\n",
    "fig = plt.figure()\n",
    "ax = fig.gca(projection='3d')\n",
    "\n",
    "ax.plot(xs, ys, zs, lw=0.5)\n",
    "ax.set_xlabel(\"X Axis\")\n",
    "ax.set_ylabel(\"Y Axis\")\n",
    "ax.set_zlabel(\"Z Axis\")\n",
    "ax.set_title(\"Lorenz Attractor\")\n",
    "\n",
    "plt.show()"
   ]
  },
  {
   "cell_type": "markdown",
   "metadata": {},
   "source": [
    "### stackplot"
   ]
  },
  {
   "cell_type": "code",
   "execution_count": null,
   "metadata": {
    "collapsed": false
   },
   "outputs": [],
   "source": [
    "def fnx():\n",
    "    return np.random.randint(5, 50, 10)\n",
    "\n",
    "y = np.row_stack((fnx(), fnx(), fnx()))\n",
    "x = np.arange(10)\n",
    "\n",
    "y1, y2, y3 = fnx(), fnx(), fnx()\n",
    "\n",
    "fig, ax = plt.subplots()\n",
    "ax.stackplot(x, y)\n",
    "plt.show()\n",
    "\n",
    "fig, ax = plt.subplots()\n",
    "ax.stackplot(x, y1, y2, y3)\n",
    "plt.show()"
   ]
  },
  {
   "cell_type": "markdown",
   "metadata": {},
   "source": [
    "### カラープロッティング"
   ]
  },
  {
   "cell_type": "code",
   "execution_count": null,
   "metadata": {
    "collapsed": false
   },
   "outputs": [],
   "source": [
    "from numpy.random import rand\n",
    "\n",
    "Z = rand(6, 10)\n",
    "\n",
    "plt.subplot(2, 1, 1)\n",
    "c = plt.pcolor(Z)  # 色のプロッティング\n",
    "plt.title('default: no edges')\n",
    "\n",
    "plt.subplot(2, 1, 2)\n",
    "c = plt.pcolor(Z, edgecolors='k', linewidths=4)\n",
    "plt.title('thick edges')\n",
    "\n",
    "plt.show()"
   ]
  },
  {
   "cell_type": "markdown",
   "metadata": {},
   "source": [
    "### 画像のプロッティング"
   ]
  },
  {
   "cell_type": "code",
   "execution_count": null,
   "metadata": {
    "collapsed": false
   },
   "outputs": [],
   "source": [
    "import matplotlib.cbook as cbook\n",
    "\n",
    "w, h = 512, 512\n",
    "\n",
    "datafile = cbook.get_sample_data('ct.raw.gz', asfileobj=True)\n",
    "s = datafile.read()\n",
    "A = np.fromstring(s, np.uint16).astype(float)\n",
    "A *= 1.0 / max(A)\n",
    "A.shape = w, h\n",
    "\n",
    "extent = (0, 25, 0, 25)\n",
    "im = plt.imshow(A, cmap=plt.cm.hot, origin='upper', extent=extent)\n",
    "\n",
    "markers = [(15.9, 14.5), (16.8, 15)]\n",
    "x, y = zip(*markers)\n",
    "plt.plot(x, y, 'o')\n",
    "\n",
    "plt.title('CT density')\n",
    "\n",
    "plt.show()"
   ]
  },
  {
   "cell_type": "code",
   "execution_count": null,
   "metadata": {
    "collapsed": false
   },
   "outputs": [],
   "source": []
  },
  {
   "cell_type": "code",
   "execution_count": null,
   "metadata": {
    "collapsed": true
   },
   "outputs": [],
   "source": []
  }
 ],
 "metadata": {
  "kernelspec": {
   "display_name": "Python 3",
   "language": "python",
   "name": "python3"
  },
  "language_info": {
   "codemirror_mode": {
    "name": "ipython",
    "version": 3
   },
   "file_extension": ".py",
   "mimetype": "text/x-python",
   "name": "python",
   "nbconvert_exporter": "python",
   "pygments_lexer": "ipython3",
   "version": "3.5.3"
  }
 },
 "nbformat": 4,
 "nbformat_minor": 2
}
