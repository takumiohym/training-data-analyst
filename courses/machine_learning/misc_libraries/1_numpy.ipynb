{
 "cells": [
  {
   "cell_type": "markdown",
   "metadata": {},
   "source": [
    "# NumPy Tutorial"
   ]
  },
  {
   "cell_type": "markdown",
   "metadata": {},
   "source": [
    "## 目次\n",
    "\n",
    "- [NumPyとは？](#what)\n",
    "- [参考資料](#reference)\n",
    "- [基本的な使い方](#use)\n",
    "  - [import](#import)\n",
    "  - [テストデータを生成](#data)\n",
    "  - [行列の操作](#arange)\n",
    "  - [抽出](#extraction)\n",
    "  - [欠損値](#nan)\n",
    "  - [配列の連結](#conjunction)\n",
    "  - [集計する](#culc)\n",
    "  - [ソート](#sort)\n",
    "  - [関数の適用](#function)"
   ]
  },
  {
   "cell_type": "markdown",
   "metadata": {},
   "source": [
    " <a name = \"what\"></a>\n",
    "## NumPyとは？"
   ]
  },
  {
   "cell_type": "markdown",
   "metadata": {},
   "source": [
    "Pythonの数値計算ライブラリ。<br>\n",
    "\n",
    "C実装なので、高速に動作。\n",
    "\n",
    "科学計算ライブラリの[scipy](https://www.scipy.org/)や描画ライブラリの[matplotlib](http://matplotlib.org/)、データ構造を提供する[pandas](http://pandas.pydata.org/)などの補助ライブラリを使うことで、高度な計算、描画、データ処理が可能。\n",
    "\n",
    "---\n",
    "### ndarrayについて\n",
    "\n",
    "numpyは、ndarrayというデータ構造を持つ。<br>\n",
    "pythonの配列と似ているが、計算用途に特化。\n",
    "\n",
    "pythonの配列とnumpyのndarrayの違い\n",
    "- ndarrayはC実装なので早い\n",
    "- 配列中の全要素をまとめて演算する（ブロードキャスト）ができるので高速\n",
    "- ndarrayは同じ型の要素しか入れられない（基本int, floatを入れて使うもの）\n",
    "- ndarrayは各次元ごとの要素数が等しい必要がある。\n",
    "- ndarrayは多くのライブラリの関数の引数や戻り値で利用される。\n",
    "\n",
    "-----"
   ]
  },
  {
   "cell_type": "markdown",
   "metadata": {},
   "source": [
    " <a name = \"reference\"></a>\n",
    "\n",
    "## 参考資料\n",
    "- [HP](http://www.numpy.org/)\n",
    "- [reference](https://docs.scipy.org/doc/numpy/reference/)\n",
    "- [100 numpy exercises](https://github.com/rougier/numpy-100)\n",
    "  - numpyの機能を紹介するトレーニングノート\n",
    "- [Scipy Lecture Notes](http://www.turbare.net/transl/scipy-lecture-notes/index.html)\n",
    "  - Pythonでの科学技術計算のレクチャー。日本語版\n",
    "- [Numpy_Example_List](http://scipy.github.io/old-wiki/pages/Numpy_Example_List)\n",
    "  - numpyのメソッドの実例集。"
   ]
  },
  {
   "cell_type": "markdown",
   "metadata": {},
   "source": [
    " <a name = \"use\"></a>\n",
    " ## 基本的な使い方"
   ]
  },
  {
   "cell_type": "markdown",
   "metadata": {},
   "source": [
    " <a name = \"import\"></a>\n",
    "\n",
    "### import"
   ]
  },
  {
   "cell_type": "code",
   "execution_count": null,
   "metadata": {
    "collapsed": true
   },
   "outputs": [],
   "source": [
    "import numpy as np         # npとするのが通例"
   ]
  },
  {
   "cell_type": "markdown",
   "metadata": {},
   "source": [
    "-----\n",
    "\n",
    " <a name = \"data\"></a>\n",
    "\n",
    "### テストデータを生成"
   ]
  },
  {
   "cell_type": "code",
   "execution_count": null,
   "metadata": {
    "collapsed": false
   },
   "outputs": [],
   "source": [
    "# 0が引数個ある配列\n",
    "np.zeros(10)"
   ]
  },
  {
   "cell_type": "code",
   "execution_count": null,
   "metadata": {
    "collapsed": false
   },
   "outputs": [],
   "source": [
    "# 1が引数個ある配列\n",
    "np.ones(10)      "
   ]
  },
  {
   "cell_type": "code",
   "execution_count": null,
   "metadata": {
    "collapsed": false
   },
   "outputs": [],
   "source": [
    "# n間隔で増える配列\n",
    "np.arange(10, step=2) # 10まで、stepずつ増える"
   ]
  },
  {
   "cell_type": "markdown",
   "metadata": {},
   "source": [
    "#### 乱数生成"
   ]
  },
  {
   "cell_type": "code",
   "execution_count": null,
   "metadata": {
    "collapsed": false
   },
   "outputs": [],
   "source": [
    "# 正規分布に従う乱数を引数個生成\n",
    "np.random.randn(10)"
   ]
  },
  {
   "cell_type": "markdown",
   "metadata": {},
   "source": [
    "正規分布[とは](http://atarimae.biz/archives/9850)\n",
    "\n",
    "---"
   ]
  },
  {
   "cell_type": "code",
   "execution_count": null,
   "metadata": {
    "collapsed": false
   },
   "outputs": [],
   "source": [
    "# 二項分布に従う乱数を引数個生成\n",
    "np.random.binomial(n=100, p=0.5, size=(10))      #n回コインを投げたときの確率をsize個生成（p: 起こる確率）"
   ]
  },
  {
   "cell_type": "markdown",
   "metadata": {},
   "source": [
    "二項分布[とは](http://atarimae.biz/archives/7922)\n",
    "\n",
    "---"
   ]
  },
  {
   "cell_type": "code",
   "execution_count": null,
   "metadata": {
    "collapsed": false
   },
   "outputs": [],
   "source": [
    "# ある範囲の整数をランダムで生成（一様分布）\n",
    "np.random.randint(low=0, high=25, size=10)"
   ]
  },
  {
   "cell_type": "markdown",
   "metadata": {},
   "source": [
    "他にも、色々な乱数生成がある。詳細は[np.randomのドキュメント](https://docs.scipy.org/doc/numpy/reference/routines.random.html)\n",
    "\n",
    "-----"
   ]
  },
  {
   "cell_type": "markdown",
   "metadata": {},
   "source": [
    "乱数を固定する場合は、np.random.seed()を使う<br>\n",
    "デバグする際などに\n"
   ]
  },
  {
   "cell_type": "code",
   "execution_count": null,
   "metadata": {
    "collapsed": false
   },
   "outputs": [],
   "source": [
    "# 何度か実行して値を確認する\n",
    "\n",
    "np.random.seed(seed=None)\n",
    "dynamic_random = np.random.randn(10)\n",
    "\n",
    "np.random.seed(100)    # 引数はなんでもいい\n",
    "static_random = np.random.randn(10)\n",
    "\n",
    "print(\"dynamic : \" + str(dynamic_random))  #毎回変化する\n",
    "print(\"======================================================================\")\n",
    "print(\"static: \" + str(static_random))  # 毎回同じ配列"
   ]
  },
  {
   "cell_type": "markdown",
   "metadata": {},
   "source": [
    "---\n",
    " <a name = \"arange\"></a>\n",
    "\n",
    "### 行列の操作\n",
    "\n"
   ]
  },
  {
   "cell_type": "code",
   "execution_count": null,
   "metadata": {
    "collapsed": false
   },
   "outputs": [],
   "source": [
    "# 2*3の行列を生成\n",
    "np.arange(6).reshape((2,3)) "
   ]
  },
  {
   "cell_type": "code",
   "execution_count": null,
   "metadata": {
    "collapsed": false
   },
   "outputs": [],
   "source": [
    "# 2*3*4*5の４次元行列を生成\n",
    "np.arange(2*3*4*5).reshape((2,3,4,5))\n"
   ]
  },
  {
   "cell_type": "code",
   "execution_count": null,
   "metadata": {
    "collapsed": false
   },
   "outputs": [],
   "source": [
    "# 配列の形を取得\n",
    "np.arange(2*3*4*5).reshape((2,3,4,5)).shape"
   ]
  },
  {
   "cell_type": "markdown",
   "metadata": {},
   "source": [
    "---"
   ]
  },
  {
   "cell_type": "markdown",
   "metadata": {},
   "source": [
    " <a name = \"extraction\"></a>\n",
    "\n",
    "### 抽出"
   ]
  },
  {
   "cell_type": "markdown",
   "metadata": {},
   "source": [
    "#### 行、列の抽出"
   ]
  },
  {
   "cell_type": "code",
   "execution_count": null,
   "metadata": {
    "collapsed": false
   },
   "outputs": [],
   "source": [
    "x = np.arange(9).reshape((3,3))\n",
    "print(str(x))"
   ]
  },
  {
   "cell_type": "code",
   "execution_count": null,
   "metadata": {
    "collapsed": false
   },
   "outputs": [],
   "source": [
    "# 列の抽出\n",
    "x[:,1]"
   ]
  },
  {
   "cell_type": "code",
   "execution_count": null,
   "metadata": {
    "collapsed": false
   },
   "outputs": [],
   "source": [
    "# 行の抽出\n",
    "x[1,:]"
   ]
  },
  {
   "cell_type": "code",
   "execution_count": null,
   "metadata": {
    "collapsed": false
   },
   "outputs": [],
   "source": [
    "# 2行目以降を抽出\n",
    "x[1:]"
   ]
  },
  {
   "cell_type": "code",
   "execution_count": null,
   "metadata": {
    "collapsed": false
   },
   "outputs": [],
   "source": [
    "# 2列目以降を抽出\n",
    "x[:,1:]"
   ]
  },
  {
   "cell_type": "markdown",
   "metadata": {},
   "source": [
    "---\n",
    "\n",
    "#### 条件から抽出"
   ]
  },
  {
   "cell_type": "code",
   "execution_count": null,
   "metadata": {
    "collapsed": false
   },
   "outputs": [],
   "source": [
    "# 条件を入れるとBooleanで返ってくる\n",
    "x==5"
   ]
  },
  {
   "cell_type": "code",
   "execution_count": null,
   "metadata": {
    "collapsed": false
   },
   "outputs": [],
   "source": [
    "# 同じ形のboolean配列を条件検索に使う\n",
    "x[x>5]"
   ]
  },
  {
   "cell_type": "code",
   "execution_count": null,
   "metadata": {
    "collapsed": false
   },
   "outputs": [],
   "source": [
    "x[x%2==0]"
   ]
  },
  {
   "cell_type": "markdown",
   "metadata": {},
   "source": [
    "---\n",
    " <a name = \"nan\"></a>\n",
    "\n",
    "### 欠損値\n",
    "\n",
    "#### 他の値で置き換える"
   ]
  },
  {
   "cell_type": "code",
   "execution_count": null,
   "metadata": {
    "collapsed": false
   },
   "outputs": [],
   "source": [
    "x = np.array([[1,2,3],[4,np.nan,5],[6,7,8]])\n",
    "print(str(x))"
   ]
  },
  {
   "cell_type": "code",
   "execution_count": null,
   "metadata": {
    "collapsed": false
   },
   "outputs": [],
   "source": [
    "# np.isnan()でnanかどうかを判定する\n",
    "np.isnan(x)"
   ]
  },
  {
   "cell_type": "code",
   "execution_count": null,
   "metadata": {
    "collapsed": false
   },
   "outputs": [],
   "source": [
    "# nanを0で置き換える\n",
    "x[np.isnan(x)] =  0\n",
    "\n",
    "print(str(x))"
   ]
  },
  {
   "cell_type": "code",
   "execution_count": null,
   "metadata": {
    "collapsed": false
   },
   "outputs": [],
   "source": [
    "# nanを欠損値以外の平均で置き換え（np.nanmean(x）で欠損値以外の平均を取る)\n",
    "\n",
    "x = np.array([[1,2,3],[4,np.nan,5],[6,7,8]])\n",
    "\n",
    "x[np.isnan(x)] = np.nanmean(x)\n",
    "print(str(x))"
   ]
  },
  {
   "cell_type": "markdown",
   "metadata": {},
   "source": [
    "---\n",
    "#### 欠損値を含む行、列を除外する"
   ]
  },
  {
   "cell_type": "code",
   "execution_count": null,
   "metadata": {
    "collapsed": false
   },
   "outputs": [],
   "source": [
    "x = np.array([[1,2,3],[4,np.nan,5],[6,7,8]])\n",
    "print(str(x))"
   ]
  },
  {
   "cell_type": "code",
   "execution_count": null,
   "metadata": {
    "collapsed": false
   },
   "outputs": [],
   "source": [
    "# 欠損値を含む行を除外\n",
    "x[~np.isnan(x).any(axis=1)]"
   ]
  },
  {
   "cell_type": "code",
   "execution_count": null,
   "metadata": {
    "collapsed": false
   },
   "outputs": [],
   "source": [
    "np.ma.masked_invalid(x)"
   ]
  },
  {
   "cell_type": "code",
   "execution_count": null,
   "metadata": {
    "collapsed": false
   },
   "outputs": [],
   "source": [
    "# 欠損値を含む列を除外\n",
    "np.ma.compress_cols(np.ma.masked_invalid(x))"
   ]
  },
  {
   "cell_type": "markdown",
   "metadata": {},
   "source": [
    "np.maはマスク配列を生成。詳細は[こちら](https://docs.scipy.org/doc/numpy/reference/maskedarray.generic.html)"
   ]
  },
  {
   "cell_type": "markdown",
   "metadata": {},
   "source": [
    "---\n",
    " <a name = \"conjunction\"></a>\n",
    "\n",
    "### 配列の連結"
   ]
  },
  {
   "cell_type": "code",
   "execution_count": null,
   "metadata": {
    "collapsed": false
   },
   "outputs": [],
   "source": [
    "x1 = np.arange(start= 0, stop= 3)\n",
    "print(x1)\n",
    "\n",
    "x2 = np.arange(start = 4, stop= 7)\n",
    "print(x2)"
   ]
  },
  {
   "cell_type": "code",
   "execution_count": null,
   "metadata": {
    "collapsed": false
   },
   "outputs": [],
   "source": [
    "# 行を追加\n",
    "np.vstack([x1,x2])"
   ]
  },
  {
   "cell_type": "code",
   "execution_count": null,
   "metadata": {
    "collapsed": false
   },
   "outputs": [],
   "source": [
    "# 列を追加\n",
    "np.hstack([x1,x2])"
   ]
  },
  {
   "cell_type": "markdown",
   "metadata": {},
   "source": [
    "---\n",
    " <a name = \"culc\"></a>\n",
    "\n",
    "### 集計する"
   ]
  },
  {
   "cell_type": "code",
   "execution_count": null,
   "metadata": {
    "collapsed": false
   },
   "outputs": [],
   "source": [
    "x = np.arange(10)\n",
    "print(x)"
   ]
  },
  {
   "cell_type": "code",
   "execution_count": null,
   "metadata": {
    "collapsed": false
   },
   "outputs": [],
   "source": [
    "# 合計\n",
    "x.sum()\n",
    "# or\n",
    "np.sum(x)"
   ]
  },
  {
   "cell_type": "code",
   "execution_count": null,
   "metadata": {
    "collapsed": false
   },
   "outputs": [],
   "source": [
    "#平均\n",
    "x.mean()\n",
    "# or \n",
    "np.mean(x)"
   ]
  },
  {
   "cell_type": "code",
   "execution_count": null,
   "metadata": {
    "collapsed": false
   },
   "outputs": [],
   "source": [
    "#分散\n",
    "x.var()\n",
    "# or\n",
    "np.var(x)"
   ]
  },
  {
   "cell_type": "code",
   "execution_count": null,
   "metadata": {
    "collapsed": false
   },
   "outputs": [],
   "source": [
    "#標準偏差\n",
    "x.std()\n",
    "# or\n",
    "np.std(x)\n"
   ]
  },
  {
   "cell_type": "markdown",
   "metadata": {},
   "source": [
    "---\n",
    "\n",
    "#### 行・列方向の計算"
   ]
  },
  {
   "cell_type": "code",
   "execution_count": null,
   "metadata": {
    "collapsed": false
   },
   "outputs": [],
   "source": [
    "x = x.reshape((2,5))\n",
    "print(x)"
   ]
  },
  {
   "cell_type": "code",
   "execution_count": null,
   "metadata": {
    "collapsed": false
   },
   "outputs": [],
   "source": [
    "#行ごとの平均\n",
    "np.mean(x, axis=1)   #axis（軸） = 1:行、axis=0: 列"
   ]
  },
  {
   "cell_type": "code",
   "execution_count": null,
   "metadata": {
    "collapsed": false
   },
   "outputs": [],
   "source": [
    "# 列ごとの平均\n",
    "np.mean(x,axis=0)"
   ]
  },
  {
   "cell_type": "markdown",
   "metadata": {},
   "source": [
    "---\n",
    " <a name = \"sort\"></a>\n",
    "\n",
    "### ソート"
   ]
  },
  {
   "cell_type": "code",
   "execution_count": null,
   "metadata": {
    "collapsed": false
   },
   "outputs": [],
   "source": [
    "x = np.arange(5)*2\n",
    "np.random.shuffle(x)\n",
    "print(x)"
   ]
  },
  {
   "cell_type": "code",
   "execution_count": null,
   "metadata": {
    "collapsed": false
   },
   "outputs": [],
   "source": [
    "# 昇順ソート\n",
    "np.sort(x)"
   ]
  },
  {
   "cell_type": "code",
   "execution_count": null,
   "metadata": {
    "collapsed": false
   },
   "outputs": [],
   "source": [
    "# 降順ソート\n",
    "np.sort(x)[::-1]"
   ]
  },
  {
   "cell_type": "code",
   "execution_count": null,
   "metadata": {
    "collapsed": false
   },
   "outputs": [],
   "source": [
    "# 大きい順にTOP３\n",
    "np.sort(x)[::-1][:3]"
   ]
  },
  {
   "cell_type": "markdown",
   "metadata": {},
   "source": [
    "---\n",
    " <a name = \"function\"></a>\n",
    "\n",
    "\n",
    "### 配列に任意の関数を適用する"
   ]
  },
  {
   "cell_type": "code",
   "execution_count": null,
   "metadata": {
    "collapsed": false
   },
   "outputs": [],
   "source": [
    "x = np.arange(5)\n",
    "print(x)"
   ]
  },
  {
   "cell_type": "code",
   "execution_count": null,
   "metadata": {
    "collapsed": false
   },
   "outputs": [],
   "source": [
    "# 各値を二乗する関数\n",
    "function = np.vectorize(lambda x:x*x)"
   ]
  },
  {
   "cell_type": "code",
   "execution_count": null,
   "metadata": {
    "collapsed": false
   },
   "outputs": [],
   "source": [
    "function(x)"
   ]
  },
  {
   "cell_type": "markdown",
   "metadata": {},
   "source": [
    "np.vectorize()はリストを引数に関数を取り、関数に配列で値を渡せるようにする。<br>\n",
    "詳細は[こちら](http://qiita.com/3x8tacorice/items/3cc5399e18a7e3f9db86)"
   ]
  },
  {
   "cell_type": "markdown",
   "metadata": {},
   "source": [
    "## おまけ\n",
    "\n",
    "[***Numpy Cheat Sheet***](https://s3.amazonaws.com/assets.datacamp.com/blog_assets/Numpy_Python_Cheat_Sheet.pdf)"
   ]
  },
  {
   "cell_type": "code",
   "execution_count": null,
   "metadata": {},
   "outputs": [],
   "source": []
  }
 ],
 "metadata": {
  "kernelspec": {
   "display_name": "Python 3",
   "language": "python",
   "name": "python3"
  },
  "language_info": {
   "codemirror_mode": {
    "name": "ipython",
    "version": 3
   },
   "file_extension": ".py",
   "mimetype": "text/x-python",
   "name": "python",
   "nbconvert_exporter": "python",
   "pygments_lexer": "ipython3",
   "version": "3.5.3"
  }
 },
 "nbformat": 4,
 "nbformat_minor": 2
}
