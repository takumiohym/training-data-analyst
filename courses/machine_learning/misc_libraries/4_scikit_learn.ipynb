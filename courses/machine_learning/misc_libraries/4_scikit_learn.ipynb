{
 "cells": [
  {
   "cell_type": "markdown",
   "metadata": {},
   "source": [
    "# Scikit-learnと機械学習\n",
    "\n",
    "機械学習のためのPythonライブラリscikit-learnの使い方<br>\n",
    "同時に機械学習の基本的なアルゴリズムと、プロセスについて"
   ]
  },
  {
   "cell_type": "markdown",
   "metadata": {},
   "source": [
    "## 目次\n",
    "- [参考リンク](#reference)\n",
    "- [Scikit-learnとは](#what)\n",
    "- [はじめに](#begining)\n",
    "    - [サンプルデータセット](#sample)\n",
    "- [教師あり学習](#supervised)\n",
    "    - [学習データ/検証データ](#training-test)\n",
    "    - [さまざまな分類アルゴリズム](#classification)\n",
    "        - [ロジスティック回帰](#logisticr-c)\n",
    "        - [K-means法による分類](#kmeans-c)\n",
    "        - [SVM-Classificationによる分類（線形カーネル）](#svm-c-linear)\n",
    "        - [SVM-Classificationによる分類（RBFカーネル）](#svm-c-rbf)\n",
    "        - [SVM-Classificationによる分類（多項式カーネル）](#svm-c-poly)\n",
    "        - [RandomForest Classifier](#rf-c)\n",
    "- [教師無し学習](#unsupervised)\n",
    "    - [次元縮約](#di-reduction)\n",
    "        - [主成分分析（PCA）](#pca)\n",
    "        - [多次元尺度構成法（MDS）](#mds)\n",
    "    \n"
   ]
  },
  {
   "cell_type": "markdown",
   "metadata": {},
   "source": [
    "---\n",
    " <a name = \"reference\"></a>\n",
    "\n",
    "## 参考リンク\n",
    "- [scikit-learn](http://scikit-learn.org/stable/supervised_learning.html)"
   ]
  },
  {
   "cell_type": "markdown",
   "metadata": {},
   "source": [
    " <a name = \"what\"></a>\n",
    "\n",
    "## Scikit-learnとは\n",
    "\n",
    "\n",
    "Pythonの機械学習ライブラリ。デファクト・スタンダート<br>\n",
    "様々なアルゴリズムが含まれており、シンプルなAPIで使用することができる<br>\n",
    "\n"
   ]
  },
  {
   "cell_type": "markdown",
   "metadata": {},
   "source": [
    "---\n",
    " <a name = \"begining\"></a>\n",
    "\n",
    "## はじめに\n",
    " <a name = \"sample\"></a>\n",
    "\n",
    "### サンプルデータセット\n",
    "\n",
    "さまざまなサンプルデータが用意されている\n",
    "\n",
    "- load_boston\n",
    "    - ボストンの家賃データ\n",
    "    - 回帰\n",
    "- load_iris\n",
    "    - アイリスの品種データ\n",
    "    - 分類\n",
    "- load_diabetes\n",
    "    - 体重データ\n",
    "    - 回帰\n",
    "- load_digits\n",
    "    - 8×8の手書き数字データ\n",
    "    - 分類"
   ]
  },
  {
   "cell_type": "code",
   "execution_count": null,
   "metadata": {
    "collapsed": false
   },
   "outputs": [],
   "source": [
    "from sklearn import datasets\n",
    "import matplotlib.pyplot as plt\n",
    "% matplotlib inline\n",
    "\n",
    "plt.imshow(datasets.load_digits().data[0].reshape(8,8))"
   ]
  },
  {
   "cell_type": "markdown",
   "metadata": {},
   "source": [
    " <a name = \"supervised\"></a>\n",
    "\n",
    "## 教師あり学習\n",
    "インプットとアウトプットのデータから関数を学習する\n",
    "\n",
    "- f(x) = yのxとｙからfを学習する\n",
    "\n",
    "scikit-learnでは、どのアルゴリズムでもインターフェースが以下に統一されている。\n",
    "\n",
    "- 分類器のオブジェクトを生成\n",
    "- fit()に訓練データを与えて分類器のパラメータを学習（Training)\n",
    "- predict()にテストデータを与えて予測（Prediction）\n",
    "- score()で分類器の性能を評価（Evaluation）\n"
   ]
  },
  {
   "cell_type": "code",
   "execution_count": null,
   "metadata": {
    "collapsed": false
   },
   "outputs": [],
   "source": [
    "# irisのデータを使用。データとターゲットに分ける\n",
    "\n",
    "iris = datasets.load_iris()\n",
    "X = iris.data[:,:2]\n",
    "y = iris.target"
   ]
  },
  {
   "cell_type": "markdown",
   "metadata": {},
   "source": [
    " <a name = \"training-test\"></a>\n",
    "\n",
    "### 学習データ/ 検証データ\n",
    "\n",
    "学習の際、必ずデータを**学習に使うデータ**と**検証に使うデータ**に分割する\n",
    "\n",
    "- 学習済みのモデルを評価するために必要\n",
    "- 学習データを2/3、検証データを1/3程度にするのが一般的\n"
   ]
  },
  {
   "cell_type": "code",
   "execution_count": null,
   "metadata": {
    "collapsed": true
   },
   "outputs": [],
   "source": [
    "# まずはデータをシャッフルする\n",
    "import numpy as np\n",
    "rng = np.random.RandomState(0)\n",
    "permutation = rng.permutation(len(X))\n",
    "X, y = X[permutation], y[permutation]"
   ]
  },
  {
   "cell_type": "code",
   "execution_count": null,
   "metadata": {
    "collapsed": false
   },
   "outputs": [],
   "source": [
    "# 分割は、sklearn.cross_validation.train_test_splitを使うとよい\n",
    "from sklearn.model_selection import train_test_split\n",
    "\n",
    "# train_sizeでトレーニングの比率を設定\n",
    "train_X, test_X, train_y, test_y = train_test_split(X, y, train_size=0.8, random_state=1999)\n"
   ]
  },
  {
   "cell_type": "code",
   "execution_count": null,
   "metadata": {
    "collapsed": false
   },
   "outputs": [],
   "source": [
    "# 分類結果の可視化プロット\n",
    "def plot_classification(clf):\n",
    "    h = .02  # step size in the mesh\n",
    "\n",
    "    x_min, x_max = X[:, 0].min() - 1, X[:, 0].max() + 1\n",
    "    y_min, y_max = X[:, 1].min() - 1, X[:, 1].max() + 1\n",
    "    xx, yy = np.meshgrid(np.arange(x_min, x_max, h),\n",
    "                         np.arange(y_min, y_max, h))\n",
    "\n",
    "    Z = clf.predict(np.c_[xx.ravel(), yy.ravel()])\n",
    "\n",
    "    Z = Z.reshape(xx.shape)\n",
    "    plt.contourf(xx, yy, Z, cmap=plt.cm.coolwarm, alpha=0.5)\n",
    "\n",
    "    plt.scatter(train_X[:,0],train_X[:,1],c=train_y,cmap=plt.cm.coolwarm)\n",
    "    plt.xlabel(iris.feature_names[0])\n",
    "    plt.ylabel(iris.feature_names[1])\n"
   ]
  },
  {
   "cell_type": "markdown",
   "metadata": {},
   "source": [
    "---\n",
    " <a name = \"classification\"></a>\n",
    "\n",
    "### さまざまな分類アルゴリズム\n",
    "\n",
    " <a name = \"logisticr-c\"></a>\n",
    "\n",
    "#### ロジスティック回帰（分類）の例\n"
   ]
  },
  {
   "cell_type": "code",
   "execution_count": null,
   "metadata": {
    "collapsed": false
   },
   "outputs": [],
   "source": [
    "from sklearn.linear_model import LogisticRegression\n",
    "classifier = LogisticRegression()  # classifier: f()\n",
    "\n",
    "# fit()で学習\n",
    "classifier.fit(train_X, train_y)\n",
    "\n",
    "# predict()で予測\n",
    "prediction = classifier.predict(test_X)\n",
    "\n",
    "# 性能の評価\n",
    "print(\"score: {:.3f}\".format(classifier.score(test_X,test_y)))"
   ]
  },
  {
   "cell_type": "code",
   "execution_count": null,
   "metadata": {
    "collapsed": false
   },
   "outputs": [],
   "source": [
    "# 分類の可視化\n",
    "plt.title(\"Logistic Regression\")\n",
    "plot_classification(classifier)"
   ]
  },
  {
   "cell_type": "markdown",
   "metadata": {},
   "source": [
    " <a name = \"kmeans-c\"></a>\n",
    "\n",
    "#### K-means法による分類"
   ]
  },
  {
   "cell_type": "code",
   "execution_count": null,
   "metadata": {
    "collapsed": false
   },
   "outputs": [],
   "source": [
    "from sklearn.neighbors import KNeighborsClassifier\n",
    "knn = KNeighborsClassifier(n_neighbors=1)\n",
    "\n",
    "# 学習\n",
    "knn.fit(train_X, train_y)\n",
    "\n",
    "plt.title(\"knn\")\n",
    "plot_classification(knn)\n",
    "plt.show()\n",
    "\n",
    "print(\"score: {:.3f}\".format(knn.score(test_X,test_y)))"
   ]
  },
  {
   "cell_type": "markdown",
   "metadata": {},
   "source": [
    " <a name = \"svm-c-linear\"></a>\n",
    "\n",
    "#### SVM-Classificationによる分類（線形カーネル）"
   ]
  },
  {
   "cell_type": "code",
   "execution_count": null,
   "metadata": {
    "collapsed": false
   },
   "outputs": [],
   "source": [
    "from sklearn.svm import SVC\n",
    "svc = SVC(kernel=\"linear\")\n",
    "\n",
    "plt.title(\"SVC\")\n",
    "svc.fit(train_X,train_y)\n",
    "plot_classification(svc)\n",
    "plt.show()\n",
    "\n",
    "print(\"score: {:.3f}\".format(svc.score(test_X,test_y)))"
   ]
  },
  {
   "cell_type": "markdown",
   "metadata": {},
   "source": [
    " <a name = \"svm-c-rbf\"></a>\n",
    " \n",
    " #### SVM-Classificationによる分類（RBFカーネル）"
   ]
  },
  {
   "cell_type": "code",
   "execution_count": null,
   "metadata": {
    "collapsed": false
   },
   "outputs": [],
   "source": [
    "from sklearn.svm import SVC\n",
    "svc = SVC(kernel=\"rbf\")\n",
    "\n",
    "plt.title(\"SVC\")\n",
    "svc.fit(train_X,train_y)\n",
    "plot_classification(svc)\n",
    "plt.show()\n",
    "\n",
    "print(\"score: {:.3f}\".format(svc.score(test_X,test_y)))"
   ]
  },
  {
   "cell_type": "markdown",
   "metadata": {},
   "source": [
    " <a name = \"poly\"></a>\n",
    "\n",
    "#### SVM-Classificationによる分類（多項式カーネル）"
   ]
  },
  {
   "cell_type": "code",
   "execution_count": null,
   "metadata": {
    "collapsed": false
   },
   "outputs": [],
   "source": [
    "from sklearn.svm import SVC\n",
    "svc = SVC(kernel=\"poly\")\n",
    "\n",
    "plt.title(\"SVC\")\n",
    "svc.fit(train_X,train_y)\n",
    "plot_classification(svc)\n",
    "plt.show()\n",
    "\n",
    "print(\"score: {:.3f}\".format(svc.score(test_X,test_y)))"
   ]
  },
  {
   "cell_type": "markdown",
   "metadata": {},
   "source": [
    " <a name = \"rf-c\"></a>\n",
    " \n",
    "#### RandomForest Classifier"
   ]
  },
  {
   "cell_type": "code",
   "execution_count": null,
   "metadata": {
    "collapsed": false
   },
   "outputs": [],
   "source": [
    "from sklearn.ensemble import RandomForestClassifier\n",
    "rfclf = RandomForestClassifier()\n",
    "\n",
    "plt.title(\"Random Forest Classifier\")\n",
    "rfclf.fit(train_X,train_y)\n",
    "plot_classification(rfclf)\n",
    "plt.show()\n",
    "\n",
    "print(\"score: {:.3f}\".format(rfclf.score(test_X,test_y)))"
   ]
  },
  {
   "cell_type": "markdown",
   "metadata": {},
   "source": [
    " <a name = \"unsupervised\"></a>\n",
    " \n",
    "## 教師なし学習\n",
    "\n",
    "教師無しでの次元縮約の例<br>\n",
    "同アイリスデータセットを４次元→2次元に圧縮\n"
   ]
  },
  {
   "cell_type": "markdown",
   "metadata": {},
   "source": [
    "---\n",
    " <a name = \"di-reduction\"></a>\n",
    "\n",
    "### 次元縮約\n",
    "\n",
    " <a name = \"pca\"></a>\n",
    "#### 主成分分析（PCA）"
   ]
  },
  {
   "cell_type": "code",
   "execution_count": null,
   "metadata": {
    "collapsed": false
   },
   "outputs": [],
   "source": [
    "from sklearn import decomposition\n",
    "pca = decomposition.PCA(n_components=2)\n",
    "pca.fit(iris.data)\n",
    "X = pca.transform(iris.data)\n",
    "y = iris.target"
   ]
  },
  {
   "cell_type": "code",
   "execution_count": null,
   "metadata": {
    "collapsed": false
   },
   "outputs": [],
   "source": [
    "plt.scatter(X[:, 0], X[:, 1], c=y) "
   ]
  },
  {
   "cell_type": "markdown",
   "metadata": {},
   "source": [
    "#### 次元を圧縮したものを、再度教師ありで分類"
   ]
  },
  {
   "cell_type": "code",
   "execution_count": null,
   "metadata": {
    "collapsed": false
   },
   "outputs": [],
   "source": [
    "X, y = X[permutation], y[permutation]\n",
    "train_X, test_X, train_y, test_y = train_test_split(X, y, train_size=0.8, random_state=1999)\n",
    "\n",
    "plt.title(\"Random Forest Classifier\")\n",
    "rfclf.fit(train_X,train_y)\n",
    "plot_classification(rfclf)\n",
    "plt.show()\n",
    "\n",
    "print(\"score: {:.3f}\".format(rfclf.score(test_X,test_y)))"
   ]
  },
  {
   "cell_type": "markdown",
   "metadata": {},
   "source": [
    " <a name = \"mds\"></a>\n",
    " \n",
    "#### 多次元尺度構成法（MDS）"
   ]
  },
  {
   "cell_type": "code",
   "execution_count": null,
   "metadata": {
    "collapsed": false
   },
   "outputs": [],
   "source": [
    "from sklearn import manifold\n",
    "mds = manifold.MDS(n_components=2)\n",
    "mds.fit(iris.data)\n",
    "X = mds.fit_transform(iris.data)\n",
    "y = iris.target"
   ]
  },
  {
   "cell_type": "code",
   "execution_count": null,
   "metadata": {
    "collapsed": false
   },
   "outputs": [],
   "source": [
    "plt.scatter(X[:, 0], X[:, 1], c=y) "
   ]
  },
  {
   "cell_type": "code",
   "execution_count": null,
   "metadata": {
    "collapsed": false
   },
   "outputs": [],
   "source": [
    "X, y = X[permutation], y[permutation]\n",
    "train_X, test_X, train_y, test_y = train_test_split(X, y, train_size=0.8, random_state=1999)\n",
    "\n",
    "plt.title(\"Random Forest Classifier\")\n",
    "rfclf.fit(train_X,train_y)\n",
    "plot_classification(rfclf)\n",
    "plt.show()\n",
    "\n",
    "print(\"score: {:.3f}\".format(rfclf.score(test_X,test_y)))"
   ]
  }
 ],
 "metadata": {
  "kernelspec": {
   "display_name": "Python 3",
   "language": "python",
   "name": "python3"
  },
  "language_info": {
   "codemirror_mode": {
    "name": "ipython",
    "version": 3
   },
   "file_extension": ".py",
   "mimetype": "text/x-python",
   "name": "python",
   "nbconvert_exporter": "python",
   "pygments_lexer": "ipython3",
   "version": "3.5.3"
  }
 },
 "nbformat": 4,
 "nbformat_minor": 2
}
